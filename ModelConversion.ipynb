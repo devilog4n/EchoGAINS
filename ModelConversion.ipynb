{
 "cells": [
  {
   "cell_type": "markdown",
   "metadata": {},
   "source": [
    "# Model Conversion Notebook: nnU-Net to Core ML\n",
    "\n",
    "This notebook guides you through setting up the environment, downloading the necessary nnU-Net model weights, and converting them to the Core ML format (`.mlmodel`) required for the EchoAnalyzer iOS app.\n",
    "\n",
    "**Prerequisites:**\n",
    "- A Python 3 environment.\n",
    "- Internet access.\n",
    "- The `plans.json` file should be placed in the correct relative path for `nnunet_model_conversion_final.py` to find it. The script expects it at: `EchoAnalyzer/EchoAnalyzer/nnU-Net_CAMUS_EchoGAINS/nnUNetTrainer__nnUNetPlans__2d/plans.json`. Please ensure this path exists relative to where you run this notebook, or adjust the path in the conversion script cell."
   ]
  },
  {
   "cell_type": "code",
   "execution_count": null,
   "metadata": {},
   "outputs": [],
   "source": [
    "!pip install torch torchvision torchaudio\n",
    "!pip install coremltools onnx onnx-simplifier tqdm gdown requests"
   ]
  },
  {
   "cell_type": "markdown",
   "metadata": {},
   "source": [
    "## Fetch Utility Scripts\n",
    "\n",
    "The `download_model.py` script will be fetched from the user's repository.\n",
    "The `nnunet_model_conversion_final.py` script (prepared in a previous step) should be available in the workspace and will be saved alongside this notebook."
   ]
  },
  {
   "cell_type": "code",
   "execution_count": null,
   "metadata": {},
   "outputs": [],
   "source": [
    "import os\n",
    "import requests\n",
    "\n",
    "download_script_url = \"https://raw.githubusercontent.com/devilog4n/Echo_Weights/main/download_model.py\"\n",
    "download_script_name = \"download_model.py\"\n",
    "\n",
    "if not os.path.exists(download_script_name):\n",
    "    print(f\"Downloading {download_script_name} from {download_script_url}...\")\n",
    "    try:\n",
    "        response = requests.get(download_script_url)\n",
    "        response.raise_for_status()\n",
    "        with open(download_script_name, 'wb') as f:\n",
    "            f.write(response.content)\n",
    "        print(f\"{download_script_name} downloaded successfully.\")\n",
    "    except requests.exceptions.RequestException as e:\n",
    "        print(f\"Error downloading {download_script_name}: {e}\")\n",
    "        print(f\"Please ensure {download_script_name} is manually placed in the same directory as this notebook if download fails.\")\n",
    "else:\n",
    "    print(f\"{download_script_name} already exists locally.\")\n",
    "\n",
    "# Ensure nnunet_model_conversion_final.py is also present (worker should place it here)\n",
    "conversion_script_name = \"nnunet_model_conversion_final.py\"\n",
    "if not os.path.exists(conversion_script_name):\n",
    "    print(f\"ERROR: {conversion_script_name} not found. This script should have been provided by the AI worker.\")\n",
    "else:\n",
    "    print(f\"{conversion_script_name} is present.\")\n",
    "\n",
    "print(\"\\nRequired scripts should now be in the current directory.\")"
   ]
  },
  {
   "cell_type": "markdown",
   "metadata": {},
   "source": [
    "## Prepare `plans.json` Path\n",
    "\n",
    "The conversion script `nnunet_model_conversion_final.py` needs the `plans.json` file.\n",
    "Its expected path relative to this notebook's directory is:\n",
    "`EchoAnalyzer/EchoAnalyzer/nnU-Net_CAMUS_EchoGAINS/nnUNetTrainer__nnUNetPlans__2d/plans.json`\n",
    "\n",
    "1.  **Manually create this directory structure** if it doesn't exist from where you are running this notebook.\n",
    "2.  **Place your `plans.json` file** into that exact location."
   ]
  },
  {
   "cell_type": "code",
   "execution_count": null,
   "metadata": {},
   "outputs": [],
   "source": [
    "import os\n",
    "plans_json_expected_dir = \"EchoAnalyzer/EchoAnalyzer/nnU-Net_CAMUS_EchoGAINS/nnUNetTrainer__nnUNetPlans__2d/\"\n",
    "if not os.path.exists(plans_json_expected_dir):\n",
    "    os.makedirs(plans_json_expected_dir)\n",
    "    print(f\"Created directory structure: {os.path.abspath(plans_json_expected_dir)}\")\n",
    "else:\n",
    "    print(f\"Directory structure already exists: {os.path.abspath(plans_json_expected_dir)}\")\n",
    "\n",
    "print(f\"Please ensure 'plans.json' is placed inside: {os.path.abspath(plans_json_expected_dir)}plans.json\")"
   ]
  },
  {
   "cell_type": "markdown",
   "metadata": {},
   "source": [
    "## Download nnU-Net Model Weights\n",
    "\n",
    "The `download_model.py` script will attempt to use local model files from a `./models/` directory first, or download them if not found.\n",
    "We are interested in the nnU-Net segmentation model, typically `checkpoint_best.pth` or `checkpoint_final.pth`.\n",
    "The script might require an argument like 'camus', 'best', or 'final' to target the correct model."
   ]
  },
  {
   "cell_type": "code",
   "execution_count": null,
   "metadata": {},
   "outputs": [],
   "source": [
    "import os\n",
    "# Ensure the models directory exists\n",
    "models_dir = \"models\"\n",
    "if not os.path.exists(models_dir):\n",
    "    os.makedirs(models_dir)\n",
    "print(f\"Place pre-downloaded .pth model files in: '{os.path.abspath(models_dir)}' for local priority.\")\n",
    "\n",
    "print(\"\\nAttempting to run download_model.py...\")\n",
    "# Try common arguments for the nnU-Net segmentation model.\n",
    "# User might need to adapt based on download_model.py's exact CLI.\n",
    "# Option 1: if script automatically looks for local files or has a 'camus' default for segmentation\n",
    "# !python download_model.py\n",
    "# Option 2: Explicitly try to download 'best' or 'final' checkpoint if that's how the script works\n",
    "!python download_model.py best || python download_model.py final || python download_model.py camus\n",
    "\n",
    "print(\"\\nPlease check if 'checkpoint_best.pth' or 'checkpoint_final.pth' is now in the './models/' directory.\")\n",
    "print(\"If not, please run download_model.py manually from your terminal with the correct arguments, or place the .pth file there.\")"
   ]
  },
  {
   "cell_type": "markdown",
   "metadata": {},
   "source": [
    "## Convert to Core ML\n",
    "\n",
    "This cell runs `nnunet_model_conversion_final.py`.\n",
    "It assumes:\n",
    "- The PyTorch model (e.g., `checkpoint_best.pth`) is in `./models/`.\n",
    "- `plans.json` is at `EchoAnalyzer/EchoAnalyzer/nnU-Net_CAMUS_EchoGAINS/nnUNetTrainer__nnUNetPlans__2d/plans.json`.\n",
    "- It will generate `EchoSegmenter.mlmodel` in the current directory."
   ]
  },
  {
   "cell_type": "code",
   "execution_count": null,
   "metadata": {},
   "outputs": [],
   "source": [
    "print(\"Attempting to convert the model to Core ML...\")\n",
    "!python nnunet_model_conversion_final.py\n",
    "\n",
    "print(\"\\nConversion attempt finished.\")\n",
    "print(\"Check for 'EchoSegmenter.mlmodel' in the current directory.\")"
   ]
  },
  {
   "cell_type": "markdown",
   "metadata": {},
   "source": [
    "## Next Steps\n",
    "\n",
    "1.  If `EchoSegmenter.mlmodel` was generated successfully, add it to your `EchoAnalyzer` Xcode project.\n",
    "2.  Ensure it's included in the target's \"Copy Bundle Resources\" build phase.\n",
    "3.  Build and run the iOS app.\n",
    "\n",
    "If you encountered Python errors, ensure all dependencies (`torch`, `coremltools`, `onnx`, `onnx-simplifier`, `tqdm`, `gdown`, `requests`) are correctly installed in your notebook's Python environment.\n",
    "The `nnunet_model_conversion_final.py` script (which should be in the same directory as this notebook) contains the conversion logic using parameters from `plans.json`. The `download_model.py` (also in this directory) is used to fetch the weights."
   ]
  }
 ],
 "metadata": {
  "kernelspec": {
   "display_name": "Python 3",
   "language": "python",
   "name": "python3"
  },
  "language_info": {
   "codemirror_mode": {
    "name": "ipython",
    "version": 3
   },
   "file_extension": ".py",
   "mimetype": "text/x-python",
   "name": "python",
   "nbconvert_exporter": "python",
   "pygments_lexer": "ipython3",
   "version": "3.10.12"
  }
 },
 "nbformat": 4,
 "nbformat_minor": 5
}
